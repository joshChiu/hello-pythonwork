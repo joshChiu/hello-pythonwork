{
 "cells": [
  {
   "cell_type": "code",
   "execution_count": 4,
   "metadata": {},
   "outputs": [
    {
     "name": "stdout",
     "output_type": "stream",
     "text": [
      "(0, 0)\n",
      "(0, 512)\n"
     ]
    }
   ],
   "source": [
    "from PIL import Image\n",
    "# 用Python来合并图片\n",
    "arr = ['boat.png', 'baboon.png']\n",
    "toImage = Image.new('RGBA',(1024,1024))\n",
    "for i in range(2):\n",
    "    fromImge = Image.open(arr[i])\n",
    "    # loc = ((i % 2) * 200, (int(i/2) * 200))\n",
    "    loc = ((int(i/2) * 512), (i % 2) * 512)\n",
    "    print(loc)\n",
    "    toImage.paste(fromImge, loc)\n",
    "\n",
    "toImage.save('merged.png')\n"
   ]
  },
  {
   "cell_type": "code",
   "execution_count": 5,
   "metadata": {},
   "outputs": [
    {
     "ename": "NameError",
     "evalue": "name 'cv2' is not defined",
     "output_type": "error",
     "traceback": [
      "\u001b[0;31m---------------------------------------------------------------------------\u001b[0m",
      "\u001b[0;31mNameError\u001b[0m                                 Traceback (most recent call last)",
      "\u001b[0;32m<ipython-input-5-70b3fd3c3192>\u001b[0m in \u001b[0;36m<module>\u001b[0;34m\u001b[0m\n\u001b[0;32m----> 1\u001b[0;31m \u001b[0mcv2\u001b[0m\u001b[0;34m.\u001b[0m\u001b[0mimshow\u001b[0m\u001b[0;34m(\u001b[0m\u001b[0;34m'img1'\u001b[0m\u001b[0;34m,\u001b[0m \u001b[0mimg1\u001b[0m\u001b[0;34m)\u001b[0m\u001b[0;34m\u001b[0m\u001b[0;34m\u001b[0m\u001b[0m\n\u001b[0m\u001b[1;32m      2\u001b[0m \u001b[0mcv2\u001b[0m\u001b[0;34m.\u001b[0m\u001b[0mimshow\u001b[0m\u001b[0;34m(\u001b[0m\u001b[0;34m'img2'\u001b[0m\u001b[0;34m,\u001b[0m \u001b[0mimg2\u001b[0m\u001b[0;34m)\u001b[0m\u001b[0;34m\u001b[0m\u001b[0;34m\u001b[0m\u001b[0m\n\u001b[1;32m      3\u001b[0m \u001b[0mcv2\u001b[0m\u001b[0;34m.\u001b[0m\u001b[0mimshow\u001b[0m\u001b[0;34m(\u001b[0m\u001b[0;34m'img_mix'\u001b[0m\u001b[0;34m,\u001b[0m \u001b[0mimg_mix\u001b[0m\u001b[0;34m)\u001b[0m\u001b[0;34m\u001b[0m\u001b[0;34m\u001b[0m\u001b[0m\n\u001b[1;32m      4\u001b[0m \u001b[0;34m\u001b[0m\u001b[0m\n\u001b[1;32m      5\u001b[0m \u001b[0mcv2\u001b[0m\u001b[0;34m.\u001b[0m\u001b[0mwaitKey\u001b[0m\u001b[0;34m(\u001b[0m\u001b[0;36m0\u001b[0m\u001b[0;34m)\u001b[0m\u001b[0;34m\u001b[0m\u001b[0;34m\u001b[0m\u001b[0m\n",
      "\u001b[0;31mNameError\u001b[0m: name 'cv2' is not defined"
     ]
    }
   ],
   "source": [
    "cv2.imshow('img1', img1)\n",
    "cv2.imshow('img2', img2)\n",
    "cv2.imshow('img_mix', img_mix)\n",
    "\n",
    "cv2.waitKey(0)\n",
    "cv2.destroyAllWindows()"
   ]
  },
  {
   "cell_type": "code",
   "execution_count": 34,
   "metadata": {},
   "outputs": [
    {
     "ename": "ModuleNotFoundError",
     "evalue": "No module named 'cv2'",
     "output_type": "error",
     "traceback": [
      "\u001b[0;31m---------------------------------------------------------------------------\u001b[0m",
      "\u001b[0;31mModuleNotFoundError\u001b[0m                       Traceback (most recent call last)",
      "\u001b[0;32m<ipython-input-34-fb356205cbe1>\u001b[0m in \u001b[0;36m<module>\u001b[0;34m\u001b[0m\n\u001b[1;32m      1\u001b[0m \u001b[0;34m\u001b[0m\u001b[0m\n\u001b[1;32m      2\u001b[0m \u001b[0;32mimport\u001b[0m \u001b[0mnumpy\u001b[0m \u001b[0;32mas\u001b[0m \u001b[0mnp\u001b[0m\u001b[0;34m\u001b[0m\u001b[0;34m\u001b[0m\u001b[0m\n\u001b[0;32m----> 3\u001b[0;31m \u001b[0;32mimport\u001b[0m \u001b[0mcv2\u001b[0m\u001b[0;34m\u001b[0m\u001b[0;34m\u001b[0m\u001b[0m\n\u001b[0m\u001b[1;32m      4\u001b[0m \u001b[0;34m\u001b[0m\u001b[0m\n\u001b[1;32m      5\u001b[0m \u001b[0;34m\u001b[0m\u001b[0m\n",
      "\u001b[0;31mModuleNotFoundError\u001b[0m: No module named 'cv2'"
     ]
    }
   ],
   "source": [
    "\n",
    "import numpy as np\n",
    "import cv2\n",
    "\n",
    "\n",
    "\n",
    "img1 = cv2.imread('test1.png')\n",
    "img2 = cv2.imread('test2.png')\n",
    "\n",
    "img_mix = cv2.addWeighted(img1, 0.6, img2, 0.4, 0)\n",
    "\n",
    "cv2.imshow('img1', img1)\n",
    "cv2.imshow('img2', img2)\n",
    "cv2.imshow('img_mix', img_mix)\n",
    "\n",
    "cv2.waitKey(0)\n",
    "cv2.destroyAllWindows()\n"
   ]
  },
  {
   "cell_type": "code",
   "execution_count": 42,
   "metadata": {},
   "outputs": [
    {
     "ename": "ModuleNotFoundError",
     "evalue": "No module named 'cv2'",
     "output_type": "error",
     "traceback": [
      "\u001b[0;31m---------------------------------------------------------------------------\u001b[0m",
      "\u001b[0;31mModuleNotFoundError\u001b[0m                       Traceback (most recent call last)",
      "\u001b[0;32m<ipython-input-42-46b31475680a>\u001b[0m in \u001b[0;36m<module>\u001b[0;34m\u001b[0m\n\u001b[1;32m      1\u001b[0m \u001b[0;34m\u001b[0m\u001b[0m\n\u001b[0;32m----> 2\u001b[0;31m \u001b[0;32mimport\u001b[0m \u001b[0mcv2\u001b[0m \u001b[0;32mas\u001b[0m \u001b[0mcv\u001b[0m\u001b[0;34m\u001b[0m\u001b[0;34m\u001b[0m\u001b[0m\n\u001b[0m\u001b[1;32m      3\u001b[0m \u001b[0;34m\u001b[0m\u001b[0m\n\u001b[1;32m      4\u001b[0m \u001b[0;34m\u001b[0m\u001b[0m\n",
      "\u001b[0;31mModuleNotFoundError\u001b[0m: No module named 'cv2'"
     ]
    }
   ],
   "source": [
    "\n",
    "import cv2 as cv\n",
    "\n",
    "\n"
   ]
  },
  {
   "cell_type": "code",
   "execution_count": 127,
   "metadata": {},
   "outputs": [
    {
     "name": "stdout",
     "output_type": "stream",
     "text": [
      "{'data': array([[ 0.,  0.,  5., ...,  0.,  0.,  0.],\n",
      "       [ 0.,  0.,  0., ..., 10.,  0.,  0.],\n",
      "       [ 0.,  0.,  0., ..., 16.,  9.,  0.],\n",
      "       ...,\n",
      "       [ 0.,  0.,  1., ...,  6.,  0.,  0.],\n",
      "       [ 0.,  0.,  2., ..., 12.,  0.,  0.],\n",
      "       [ 0.,  0., 10., ..., 12.,  1.,  0.]]), 'target': array([0, 1, 2, ..., 8, 9, 8]), 'target_names': array([0, 1, 2, 3, 4, 5, 6, 7, 8, 9]), 'images': array([[[ 0.,  0.,  5., ...,  1.,  0.,  0.],\n",
      "        [ 0.,  0., 13., ..., 15.,  5.,  0.],\n",
      "        [ 0.,  3., 15., ..., 11.,  8.,  0.],\n",
      "        ...,\n",
      "        [ 0.,  4., 11., ..., 12.,  7.,  0.],\n",
      "        [ 0.,  2., 14., ..., 12.,  0.,  0.],\n",
      "        [ 0.,  0.,  6., ...,  0.,  0.,  0.]],\n",
      "\n",
      "       [[ 0.,  0.,  0., ...,  5.,  0.,  0.],\n",
      "        [ 0.,  0.,  0., ...,  9.,  0.,  0.],\n",
      "        [ 0.,  0.,  3., ...,  6.,  0.,  0.],\n",
      "        ...,\n",
      "        [ 0.,  0.,  1., ...,  6.,  0.,  0.],\n",
      "        [ 0.,  0.,  1., ...,  6.,  0.,  0.],\n",
      "        [ 0.,  0.,  0., ..., 10.,  0.,  0.]],\n",
      "\n",
      "       [[ 0.,  0.,  0., ..., 12.,  0.,  0.],\n",
      "        [ 0.,  0.,  3., ..., 14.,  0.,  0.],\n",
      "        [ 0.,  0.,  8., ..., 16.,  0.,  0.],\n",
      "        ...,\n",
      "        [ 0.,  9., 16., ...,  0.,  0.,  0.],\n",
      "        [ 0.,  3., 13., ..., 11.,  5.,  0.],\n",
      "        [ 0.,  0.,  0., ..., 16.,  9.,  0.]],\n",
      "\n",
      "       ...,\n",
      "\n",
      "       [[ 0.,  0.,  1., ...,  1.,  0.,  0.],\n",
      "        [ 0.,  0., 13., ...,  2.,  1.,  0.],\n",
      "        [ 0.,  0., 16., ..., 16.,  5.,  0.],\n",
      "        ...,\n",
      "        [ 0.,  0., 16., ..., 15.,  0.,  0.],\n",
      "        [ 0.,  0., 15., ..., 16.,  0.,  0.],\n",
      "        [ 0.,  0.,  2., ...,  6.,  0.,  0.]],\n",
      "\n",
      "       [[ 0.,  0.,  2., ...,  0.,  0.,  0.],\n",
      "        [ 0.,  0., 14., ..., 15.,  1.,  0.],\n",
      "        [ 0.,  4., 16., ..., 16.,  7.,  0.],\n",
      "        ...,\n",
      "        [ 0.,  0.,  0., ..., 16.,  2.,  0.],\n",
      "        [ 0.,  0.,  4., ..., 16.,  2.,  0.],\n",
      "        [ 0.,  0.,  5., ..., 12.,  0.,  0.]],\n",
      "\n",
      "       [[ 0.,  0., 10., ...,  1.,  0.,  0.],\n",
      "        [ 0.,  2., 16., ...,  1.,  0.,  0.],\n",
      "        [ 0.,  0., 15., ..., 15.,  0.,  0.],\n",
      "        ...,\n",
      "        [ 0.,  4., 16., ..., 16.,  6.,  0.],\n",
      "        [ 0.,  8., 16., ..., 16.,  8.,  0.],\n",
      "        [ 0.,  1.,  8., ..., 12.,  1.,  0.]]]), 'DESCR': \".. _digits_dataset:\\n\\nOptical recognition of handwritten digits dataset\\n--------------------------------------------------\\n\\n**Data Set Characteristics:**\\n\\n    :Number of Instances: 5620\\n    :Number of Attributes: 64\\n    :Attribute Information: 8x8 image of integer pixels in the range 0..16.\\n    :Missing Attribute Values: None\\n    :Creator: E. Alpaydin (alpaydin '@' boun.edu.tr)\\n    :Date: July; 1998\\n\\nThis is a copy of the test set of the UCI ML hand-written digits datasets\\nhttp://archive.ics.uci.edu/ml/datasets/Optical+Recognition+of+Handwritten+Digits\\n\\nThe data set contains images of hand-written digits: 10 classes where\\neach class refers to a digit.\\n\\nPreprocessing programs made available by NIST were used to extract\\nnormalized bitmaps of handwritten digits from a preprinted form. From a\\ntotal of 43 people, 30 contributed to the training set and different 13\\nto the test set. 32x32 bitmaps are divided into nonoverlapping blocks of\\n4x4 and the number of on pixels are counted in each block. This generates\\nan input matrix of 8x8 where each element is an integer in the range\\n0..16. This reduces dimensionality and gives invariance to small\\ndistortions.\\n\\nFor info on NIST preprocessing routines, see M. D. Garris, J. L. Blue, G.\\nT. Candela, D. L. Dimmick, J. Geist, P. J. Grother, S. A. Janet, and C.\\nL. Wilson, NIST Form-Based Handprint Recognition System, NISTIR 5469,\\n1994.\\n\\n.. topic:: References\\n\\n  - C. Kaynak (1995) Methods of Combining Multiple Classifiers and Their\\n    Applications to Handwritten Digit Recognition, MSc Thesis, Institute of\\n    Graduate Studies in Science and Engineering, Bogazici University.\\n  - E. Alpaydin, C. Kaynak (1998) Cascading Classifiers, Kybernetika.\\n  - Ken Tang and Ponnuthurai N. Suganthan and Xi Yao and A. Kai Qin.\\n    Linear dimensionalityreduction using relevance weighted LDA. School of\\n    Electrical and Electronic Engineering Nanyang Technological University.\\n    2005.\\n  - Claudio Gentile. A New Approximate Maximal Margin Classification\\n    Algorithm. NIPS. 2000.\"}\n"
     ]
    }
   ],
   "source": [
    "# https://www.datacamp.com/community/tutorials/scikit-learn-python\n",
    "\n",
    "from sklearn import datasets\n",
    "\n",
    "# Load in the `digits` data\n",
    "digits = datasets.load_digits()\n",
    "\n",
    "# Print the `digits` data \n",
    "print(digits)"
   ]
  },
  {
   "cell_type": "code",
   "execution_count": 44,
   "metadata": {},
   "outputs": [
    {
     "name": "stdout",
     "output_type": "stream",
     "text": [
      "      0   1   2   3   4   5   6   7   8   9  ...  55  56  57  58  59  60  61  \\\n",
      "0      0   1   6  15  12   1   0   0   0   7 ...   0   0   0   6  14   7   1   \n",
      "1      0   0  10  16   6   0   0   0   0   7 ...   0   0   0  10  16  15   3   \n",
      "2      0   0   8  15  16  13   0   0   0   1 ...   0   0   0   9  14   0   0   \n",
      "3      0   0   0   3  11  16   0   0   0   0 ...   0   0   0   0   1  15   2   \n",
      "4      0   0   5  14   4   0   0   0   0   0 ...   0   0   0   4  12  14   7   \n",
      "5      0   0  11  16  10   1   0   0   0   4 ...   3   0   0  10  16  16  16   \n",
      "6      0   0   1  11  13  11   7   0   0   0 ...   0   0   0   1  13   5   0   \n",
      "7      0   0   8  10   8   7   2   0   0   1 ...   0   0   0   4  13   8   0   \n",
      "8      0   0  15   2  14  13   2   0   0   0 ...   0   0   0  10  12   5   0   \n",
      "9      0   0   3  13  13   2   0   0   0   6 ...   0   0   0   3  15  11   6   \n",
      "10     0   0   6  14  14  16  16   8   0   0 ...   0   0   0  10  12   0   0   \n",
      "11     0   0   0   3  16  11   1   0   0   0 ...   0   0   0   0   2  14  14   \n",
      "12     0   0   0   4  13  16  16   3   0   0 ...   0   0   0   0   5  15   4   \n",
      "13     0   0   7  12   6   2   0   0   0   0 ...   0   0   0   5  16   9   0   \n",
      "14     0   0   7  11  11   6   0   0   0   9 ...   0   0   0  14  16  12  10   \n",
      "15     0   1  10  15   8   0   0   0   0   6 ...   0   0   0   9  15   8   0   \n",
      "16     0   0   0   1  11   7   0   0   0   0 ...   0   0   0   0   3  15   0   \n",
      "17     0   0   5  12  16  16   3   0   0   0 ...   0   0   0   8  12   0   0   \n",
      "18     0   0   1   8  13  13   2   0   0   4 ...   0   0   0   1  13  12   4   \n",
      "19     0   0   0   2  13  12   4   0   0   0 ...   0   0   0   0   0  15   3   \n",
      "20     0   0   4  11  15  16  15   0   0   0 ...   0   0   0   6  14   2   0   \n",
      "21     0   0   4  10  13  11   1   0   0   2 ...   0   0   0   6  13  11   1   \n",
      "22     0   0   3  11  13  14   6   0   0   0 ...   0   0   0   3  13  10   0   \n",
      "23     0   0   1   4  11  13   7   0   0   2 ...   0   0   0   0   1  14   3   \n",
      "24     0   0   9  13   1   0   0   0   0   0 ...   5   0   0   4  15  16  16   \n",
      "25     0   0   9  16  11   0   0   0   0   4 ...   1   0   0  10  16   9   9   \n",
      "26     0   0   2  13   9   0   0   0   0   0 ...   0   0   0   3  16  14   4   \n",
      "27     0   0   0  10  12   0   0   0   0   0 ...   0   0   0   1  11  14  12   \n",
      "28     0   0   0   0  10  13   0   0   0   0 ...   0   0   0   0   0   8  15   \n",
      "29     0   0   7   9  13  11   2   0   0   6 ...   0   0   0  13  12   8   1   \n",
      "...   ..  ..  ..  ..  ..  ..  ..  ..  ..  .. ...  ..  ..  ..  ..  ..  ..  ..   \n",
      "3793   0   0  15  15  16  14   1   0   0   3 ...   0   0   0  15  16  12   0   \n",
      "3794   0   0   2  13  16  15   4   0   0   0 ...   0   0   0   3  14   1   0   \n",
      "3795   0   0  12  16   7   0   0   0   0   2 ...   0   0   0  11  16  16  16   \n",
      "3796   0   0   0   3  13   0   0   0   0   0 ...   0   0   0   0   6  12   0   \n",
      "3797   0   0   0  12   8   0   0   0   0   0 ...   0   0   0   0  14   6   0   \n",
      "3798   0   0   0   9  12   0   0   0   0   0 ...   0   0   0   0  10  11   0   \n",
      "3799   0   0   5  16  13   1   0   0   0   0 ...   0   0   1   6  10  12  12   \n",
      "3800   0   0   6  16   8   0   0   0   0   2 ...   0   0   0   7  13  16  13   \n",
      "3801   0   0   5  16  11   0   0   0   0   1 ...   0   0   0   4  14  12   2   \n",
      "3802   0   1  12  16  14   4   0   0   0   8 ...   0   0   0  13  15  15  10   \n",
      "3803   0   0   3  14  13   3   0   0   0   0 ...   0   0   0   3  13  13   6   \n",
      "3804   0   0  12  16  16  10   1   0   0   0 ...   0   0   1  10  16  16  16   \n",
      "3805   0   0   0   8  11   0   0   0   0   0 ...   0   0   0   0   7  12   0   \n",
      "3806   0   1   9  16  14   6   0   0   0   5 ...   0   0   0  11  16   7   0   \n",
      "3807   0   0   4  14  15   3   0   0   0   0 ...   0   0   0   3  14  14   6   \n",
      "3808   0   2  15  16  15   1   0   0   0   3 ...   0   0   0  14  13  16  11   \n",
      "3809   0   0   5  15  16   6   0   0   0   0 ...   0   0   0   5  15  16  15   \n",
      "3810   0   0   4  16  11   1   0   0   0   0 ...   0   0   0   2  12  16  11   \n",
      "3811   0   0   0   0   7  11   1   0   0   0 ...   0   0   0   2   0   7  11   \n",
      "3812   0   0   0   6  13   0   0   0   0   0 ...   0   0   0   0   6   9   0   \n",
      "3813   0   0   0   6   8   0   0   0   0   0 ...   0   0   1   4   9   8   0   \n",
      "3814   0   0   9  16   6   0   0   0   0   2 ...   0   0   0  10  13   1   0   \n",
      "3815   0   0   9  16  12   1   0   0   0   3 ...   0   0   0   8  16  16  16   \n",
      "3816   0   1  10  16  16   4   0   0   0   8 ...   0   0   2  13  16  12   5   \n",
      "3817   0   0   6  16  11   0   0   0   0   1 ...   0   0   1   7  14  16  12   \n",
      "3818   0   0   5  13  11   2   0   0   0   2 ...   0   0   0   8  13  15  10   \n",
      "3819   0   0   0   1  12   1   0   0   0   0 ...   0   0   0   0   4   9   0   \n",
      "3820   0   0   3  15   0   0   0   0   0   0 ...   0   0   0   4  14  16   9   \n",
      "3821   0   0   6  16   2   0   0   0   0   0 ...   0   0   0   5  16  16  16   \n",
      "3822   0   0   2  15  16  13   1   0   0   0 ...   0   0   0   4  14   1   0   \n",
      "\n",
      "      62  63  64  \n",
      "0      0   0   0  \n",
      "1      0   0   0  \n",
      "2      0   0   7  \n",
      "3      0   0   4  \n",
      "4      0   0   6  \n",
      "5     16   6   2  \n",
      "6      0   0   5  \n",
      "7      0   0   5  \n",
      "8      0   0   0  \n",
      "9      0   0   8  \n",
      "10     0   0   7  \n",
      "11     1   0   1  \n",
      "12     0   0   9  \n",
      "13     0   0   5  \n",
      "14     1   0   3  \n",
      "15     0   0   0  \n",
      "16     0   0   4  \n",
      "17     0   0   7  \n",
      "18     0   0   8  \n",
      "19     0   0   4  \n",
      "20     0   0   7  \n",
      "21     0   0   8  \n",
      "22     0   0   5  \n",
      "23     0   0   9  \n",
      "24    16  16   1  \n",
      "25    13   6   2  \n",
      "26     0   0   0  \n",
      "27     1   0   6  \n",
      "28     2   0   1  \n",
      "29     0   0   8  \n",
      "...   ..  ..  ..  \n",
      "3793   0   0   5  \n",
      "3794   0   0   7  \n",
      "3795  16   8   2  \n",
      "3796   0   0   4  \n",
      "3797   0   0   4  \n",
      "3798   0   0   4  \n",
      "3799   2   0   9  \n",
      "3800   9   0   9  \n",
      "3801   0   0   0  \n",
      "3802   2   0   3  \n",
      "3803   0   0   0  \n",
      "3804   7   0   3  \n",
      "3805   0   0   4  \n",
      "3806   0   0   8  \n",
      "3807   0   0   0  \n",
      "3808   1   0   3  \n",
      "3809   1   0   0  \n",
      "3810   1   0   1  \n",
      "3811   0   0   1  \n",
      "3812   0   0   4  \n",
      "3813   0   0   4  \n",
      "3814   0   0   8  \n",
      "3815   8   0   9  \n",
      "3816   0   0   3  \n",
      "3817   1   0   9  \n",
      "3818   1   0   9  \n",
      "3819   0   0   4  \n",
      "3820   0   0   6  \n",
      "3821   5   0   6  \n",
      "3822   0   0   7  \n",
      "\n",
      "[3823 rows x 65 columns]\n"
     ]
    }
   ],
   "source": [
    "# Import the `pandas` library as `pd`\n",
    "import pandas as pd\n",
    "\n",
    "# Load in the data with `read_csv()`\n",
    "digits = pd.read_csv(\"http://archive.ics.uci.edu/ml/machine-learning-databases/optdigits/optdigits.tra\", header=None)\n",
    "\n",
    "# Print out `digits`\n",
    "print(digits)"
   ]
  },
  {
   "cell_type": "code",
   "execution_count": 48,
   "metadata": {},
   "outputs": [
    {
     "name": "stdout",
     "output_type": "stream",
     "text": [
      "dict_keys(['data', 'target', 'target_names', 'images', 'DESCR'])\n",
      "[[ 0.  0.  5. ...  0.  0.  0.]\n",
      " [ 0.  0.  0. ... 10.  0.  0.]\n",
      " [ 0.  0.  0. ... 16.  9.  0.]\n",
      " ...\n",
      " [ 0.  0.  1. ...  6.  0.  0.]\n",
      " [ 0.  0.  2. ... 12.  0.  0.]\n",
      " [ 0.  0. 10. ... 12.  1.  0.]]\n",
      "[0 1 2 ... 8 9 8]\n",
      ".. _digits_dataset:\n",
      "\n",
      "Optical recognition of handwritten digits dataset\n",
      "--------------------------------------------------\n",
      "\n",
      "**Data Set Characteristics:**\n",
      "\n",
      "    :Number of Instances: 5620\n",
      "    :Number of Attributes: 64\n",
      "    :Attribute Information: 8x8 image of integer pixels in the range 0..16.\n",
      "    :Missing Attribute Values: None\n",
      "    :Creator: E. Alpaydin (alpaydin '@' boun.edu.tr)\n",
      "    :Date: July; 1998\n",
      "\n",
      "This is a copy of the test set of the UCI ML hand-written digits datasets\n",
      "http://archive.ics.uci.edu/ml/datasets/Optical+Recognition+of+Handwritten+Digits\n",
      "\n",
      "The data set contains images of hand-written digits: 10 classes where\n",
      "each class refers to a digit.\n",
      "\n",
      "Preprocessing programs made available by NIST were used to extract\n",
      "normalized bitmaps of handwritten digits from a preprinted form. From a\n",
      "total of 43 people, 30 contributed to the training set and different 13\n",
      "to the test set. 32x32 bitmaps are divided into nonoverlapping blocks of\n",
      "4x4 and the number of on pixels are counted in each block. This generates\n",
      "an input matrix of 8x8 where each element is an integer in the range\n",
      "0..16. This reduces dimensionality and gives invariance to small\n",
      "distortions.\n",
      "\n",
      "For info on NIST preprocessing routines, see M. D. Garris, J. L. Blue, G.\n",
      "T. Candela, D. L. Dimmick, J. Geist, P. J. Grother, S. A. Janet, and C.\n",
      "L. Wilson, NIST Form-Based Handprint Recognition System, NISTIR 5469,\n",
      "1994.\n",
      "\n",
      ".. topic:: References\n",
      "\n",
      "  - C. Kaynak (1995) Methods of Combining Multiple Classifiers and Their\n",
      "    Applications to Handwritten Digit Recognition, MSc Thesis, Institute of\n",
      "    Graduate Studies in Science and Engineering, Bogazici University.\n",
      "  - E. Alpaydin, C. Kaynak (1998) Cascading Classifiers, Kybernetika.\n",
      "  - Ken Tang and Ponnuthurai N. Suganthan and Xi Yao and A. Kai Qin.\n",
      "    Linear dimensionalityreduction using relevance weighted LDA. School of\n",
      "    Electrical and Electronic Engineering Nanyang Technological University.\n",
      "    2005.\n",
      "  - Claudio Gentile. A New Approximate Maximal Margin Classification\n",
      "    Algorithm. NIPS. 2000.\n"
     ]
    }
   ],
   "source": [
    "# Get the keys of the `digits` data\n",
    "print(digits.keys())\n",
    "\n",
    "# Print out the data\n",
    "print(digits.data)\n",
    "\n",
    "# Print out the target values\n",
    "print(digits.target)\n",
    "\n",
    "# Print out the description of the `digits` data\n",
    "print(digits.DESCR)"
   ]
  },
  {
   "cell_type": "code",
   "execution_count": 50,
   "metadata": {},
   "outputs": [
    {
     "name": "stdout",
     "output_type": "stream",
     "text": [
      "(1797, 64)\n",
      "(1797,)\n",
      "(1797, 8, 8)\n"
     ]
    }
   ],
   "source": [
    "# Isolate the `digits` data\n",
    "digits_data = digits.data\n",
    "\n",
    "# Inspect the shape\n",
    "print(digits_data.shape)\n",
    "\n",
    "# Isolate the target values with `target`\n",
    "digits_target = digits.target\n",
    "\n",
    "# Inspect the shape\n",
    "print(digits_target.shape)\n",
    "\n",
    "# Print the number of unique labels\n",
    "number_digits = len(np.unique(digits.target))\n",
    "\n",
    "# Isolate the `images`\n",
    "digits_images = digits.images\n",
    "\n",
    "# Inspect the shape\n",
    "print(digits_images.shape)"
   ]
  },
  {
   "cell_type": "code",
   "execution_count": 58,
   "metadata": {},
   "outputs": [
    {
     "data": {
      "image/png": "[encoded data removed]",
      "text/plain": [
       "<Figure size 288x144 with 8 Axes>"
      ]
     },
     "metadata": {},
     "output_type": "display_data"
    }
   ],
   "source": [
    "# 從 `sklearn` 載入 `datasets`\n",
    "from sklearn import datasets\n",
    "# 載入 matplotlib\n",
    "import matplotlib.pyplot as plt\n",
    "\n",
    "# 載入 `digits`\n",
    "digits = datasets.load_digits()\n",
    "\n",
    "# 設定圖形的大小（寬, 高）\n",
    "fig = plt.figure(figsize=(4, 2))\n",
    "\n",
    "# 調整子圖形 \n",
    "fig.subplots_adjust(left=0, right=1, bottom=0, top=1, hspace=0.05, wspace=0.05)\n",
    "\n",
    "# 把前 8 個手寫數字顯示在子圖形\n",
    "for i in range(8):\n",
    "    # 在 2 x 4 網格中第 i + 1 個位置繪製子圖形，並且關掉座標軸刻度\n",
    "    ax = fig.add_subplot(2, 4, i + 1, xticks = [], yticks = [])\n",
    "    # 顯示圖形，色彩選擇灰階\n",
    "    ax.imshow(digits.images[i], cmap = plt.cm.binary)\n",
    "    # 在左下角標示目標值\n",
    "    ax.text(0, 7, str(digits.target[i]))\n",
    "\n",
    "# 顯示圖形\n",
    "plt.show()"
   ]
  },
  {
   "cell_type": "code",
   "execution_count": 126,
   "metadata": {},
   "outputs": [
    {
     "data": {
      "image/png": "[encoded data removed]",
      "text/plain": [
       "<Figure size 432x288 with 8 Axes>"
      ]
     },
     "metadata": {
      "needs_background": "light"
     },
     "output_type": "display_data"
    }
   ],
   "source": [
    "# 從 `sklearn` 載入 `datasets`\n",
    "from sklearn import datasets\n",
    "# 載入 matplotlib\n",
    "import matplotlib.pyplot as plt\n",
    "\n",
    "# 載入 `digits`\n",
    "digits = datasets.load_digits()\n",
    "\n",
    "# 將觀測值與目標值放入一個 list\n",
    "images_and_labels = list(zip(digits.images, digits.target))\n",
    "\n",
    "# list 中的每個元素\n",
    "for i, (image, label) in enumerate(images_and_labels[:8]):\n",
    "    # 在 i + 1 的位置初始化子圖形\n",
    "    plt.subplot(2, 4, i + 1)\n",
    "    # 關掉子圖形座標軸刻度\n",
    "    plt.axis('off')\n",
    "    # 顯示圖形，色彩選擇灰階\n",
    "    plt.imshow(image, cmap = plt.cm.binary)\n",
    "    # 加入子圖形的標題\n",
    "    plt.title('Training: ' + str(label))\n",
    "\n",
    "# 顯示圖形\n",
    "plt.show()"
   ]
  },
  {
   "cell_type": "code",
   "execution_count": 130,
   "metadata": {},
   "outputs": [
    {
     "name": "stdout",
     "output_type": "stream",
     "text": [
      "Shape of reduced_data_pca: (1797, 2)\n",
      "---\n",
      "RPCA:\n",
      "[[ -1.25946451  21.27488502]\n",
      " [  7.95761304 -20.76869937]\n",
      " [  6.99192015  -9.95598751]\n",
      " ...\n",
      " [ 10.80128362  -6.96025053]\n",
      " [ -4.87210465  12.42394106]\n",
      " [ -0.34439139   6.36555034]]\n",
      "---\n",
      "PCA:\n",
      "[[ -1.25948192  21.27489541]\n",
      " [  7.95759918 -20.76868978]\n",
      " [  6.99194679  -9.95600477]\n",
      " ...\n",
      " [ 10.80127651  -6.96024712]\n",
      " [ -4.87212695  12.42397534]\n",
      " [ -0.34438579   6.36554618]]\n"
     ]
    }
   ],
   "source": [
    "from sklearn.decomposition import PCA \n",
    "# import numpy as np\n",
    "# from sklearn.decomposition import PCA\n",
    "\n",
    "\n",
    "# Create a Randomized PCA model that takes two components\n",
    "randomized_pca = RandomizedPCA(n_components=2)\n",
    "\n",
    "# Fit and transform the data to the model\n",
    "reduced_data_rpca = randomized_pca.fit_transform(digits.data)\n",
    "\n",
    "# Create a regular PCA model \n",
    "pca = PCA(n_components=2)\n",
    "\n",
    "# Fit and transform the data to the model\n",
    "reduced_data_pca = pca.fit_transform(digits.data)\n",
    "\n",
    "# Inspect the shape\n",
    "print(\"Shape of reduced_data_pca:\", reduced_data_pca.shape)\n",
    "print(\"---\")\n",
    "\n",
    "# Print out the data\n",
    "print(\"RPCA:\")\n",
    "print(reduced_data_rpca)\n",
    "print(\"---\")\n",
    "print(\"PCA:\")\n",
    "print(reduced_data_pca)"
   ]
  },
  {
   "cell_type": "code",
   "execution_count": 129,
   "metadata": {},
   "outputs": [
    {
     "data": {
      "image/png": "[encoded data removed]",
      "text/plain": [
       "<Figure size 432x288 with 1 Axes>"
      ]
     },
     "metadata": {
      "needs_background": "light"
     },
     "output_type": "display_data"
    }
   ],
   "source": [
    "from sklearn import datasets\n",
    "digits = datasets.load_digits()\n",
    "import matplotlib.pyplot as plt\n",
    "\n",
    "colors = ['black', 'blue', 'purple', 'yellow', 'white', 'red', 'lime', 'cyan', 'orange', 'gray']\n",
    "\n",
    "for i in range(len(colors)):\n",
    "    x = reduced_data_rpca[:, 0][digits.target == i]\n",
    "    y = reduced_data_rpca[:, 1][digits.target == i]\n",
    "    plt.scatter(x, y, c=colors[i])\n",
    "    \n",
    "plt.legend(digits.target_names, bbox_to_anchor=(1.05, 1), loc=2, borderaxespad=0.)\n",
    "plt.xlabel('First Principal Component')\n",
    "plt.ylabel('Second Principal Component')\n",
    "plt.title(\"PCA Scatter Plot\")\n",
    "plt.show()"
   ]
  },
  {
   "cell_type": "code",
   "execution_count": 118,
   "metadata": {},
   "outputs": [],
   "source": [
    "from sklearn.decomposition import PCA as RandomizedPCA\n"
   ]
  },
  {
   "cell_type": "code",
   "execution_count": 110,
   "metadata": {},
   "outputs": [
    {
     "name": "stderr",
     "output_type": "stream",
     "text": [
      "/home/u1804/anaconda3/envs/tfgpu_r1.13.1_py37/lib/python3.7/site-packages/matplotlib/collections.py:874: RuntimeWarning: invalid value encountered in sqrt\n",
      "  scale = np.sqrt(self._sizes) * dpi / 72.0 * self._factor\n"
     ]
    },
    {
     "data": {
      "text/plain": [
       "<mpl_toolkits.mplot3d.art3d.Path3DCollection at 0x7f91274733c8>"
      ]
     },
     "execution_count": 110,
     "metadata": {},
     "output_type": "execute_result"
    },
    {
     "data": {
      "image/png": "[encoded data removed]",
      "text/plain": [
       "<Figure size 432x288 with 1 Axes>"
      ]
     },
     "metadata": {
      "needs_background": "light"
     },
     "output_type": "display_data"
    }
   ],
   "source": [
    "import numpy as np\n",
    "from sklearn.decomposition import PCA\n",
    "\n",
    "import numpy as np\n",
    "import matplotlib.pyplot as plt\n",
    "from mpl_toolkits.mplot3d import Axes3D\n",
    "%matplotlib inline\n",
    "from sklearn.datasets.samples_generator import make_blobs\n",
    "\n",
    "# X为样本特征，Y为样本簇类别， 共1000个样本，每个样本3个特征，共4个簇\n",
    "X, y = make_blobs(n_samples=10000, n_features=3, centers=[[3,3, 3], [0,0,0], [1,1,1], [2,2,2]], cluster_std=[0.2, 0.1, 0.2, 0.2], \n",
    "                  random_state =9)\n",
    "fig = plt.figure()\n",
    "ax = Axes3D(fig, rect=[0, 0, 1, 1], elev=30, azim=20)\n",
    "plt.scatter(X[:, 0], X[:, 1], X[:, 2],marker='o')\n"
   ]
  },
  {
   "cell_type": "code",
   "execution_count": 111,
   "metadata": {},
   "outputs": [
    {
     "name": "stdout",
     "output_type": "stream",
     "text": [
      "[0.98318212 0.00850037]\n",
      "[3.78521638 0.03272613]\n"
     ]
    }
   ],
   "source": [
    "pca = PCA(n_components=2)\n",
    "pca.fit(X)\n",
    "\n",
    "print (pca.explained_variance_ratio_)\n",
    "print (pca.explained_variance_)"
   ]
  },
  {
   "cell_type": "code",
   "execution_count": 109,
   "metadata": {},
   "outputs": [
    {
     "name": "stdout",
     "output_type": "stream",
     "text": [
      "[0.99244289 0.00755711]\n"
     ]
    }
   ],
   "source": [
    "import numpy as np\n",
    "from sklearn.decomposition import PCA\n",
    "X = np.array([[-1, -1], [-2, -1], [-3, -2], [1, 1], [2, 1], [3, 2]])\n",
    "\n",
    "pca = PCA(n_components=2)\n",
    "pca.fit(X)\n",
    "PCA(copy=True, iterated_power='auto', n_components=2, random_state=None,\n",
    "  svd_solver='auto', tol=0.0, whiten=False)\n",
    "\n",
    "print(pca.explained_variance_ratio_)  \n"
   ]
  },
  {
   "cell_type": "code",
   "execution_count": null,
   "metadata": {},
   "outputs": [],
   "source": []
  },
  {
   "cell_type": "code",
   "execution_count": null,
   "metadata": {},
   "outputs": [],
   "source": []
  },
  {
   "cell_type": "code",
   "execution_count": null,
   "metadata": {},
   "outputs": [],
   "source": []
  },
  {
   "cell_type": "code",
   "execution_count": null,
   "metadata": {},
   "outputs": [],
   "source": []
  },
  {
   "cell_type": "code",
   "execution_count": null,
   "metadata": {},
   "outputs": [],
   "source": []
  },
  {
   "cell_type": "code",
   "execution_count": null,
   "metadata": {},
   "outputs": [],
   "source": []
  },
  {
   "cell_type": "code",
   "execution_count": null,
   "metadata": {},
   "outputs": [],
   "source": []
  },
  {
   "cell_type": "code",
   "execution_count": null,
   "metadata": {},
   "outputs": [],
   "source": []
  }
 ],
 "metadata": {
  "kernelspec": {
   "display_name": "Python 3",
   "language": "python",
   "name": "python3"
  },
  "language_info": {
   "codemirror_mode": {
    "name": "ipython",
    "version": 3
   },
   "file_extension": ".py",
   "mimetype": "text/x-python",
   "name": "python",
   "nbconvert_exporter": "python",
   "pygments_lexer": "ipython3",
   "version": "3.7.1"
  }
 },
 "nbformat": 4,
 "nbformat_minor": 2
}
